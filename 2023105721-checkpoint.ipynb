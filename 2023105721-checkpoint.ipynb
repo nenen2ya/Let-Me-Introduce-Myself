{
 "cells": [
  {
   "cell_type": "code",
   "execution_count": null,
   "id": "f7eff1df",
   "metadata": {},
   "outputs": [],
   "source": [
    "<!DOCTYPE html>\n",
    "<html>\n",
    "\n",
    "<head>\n",
    "  <title>한현비의 자기소개</title>\n",
    "  <style>\n",
    "    #name {\n",
    "      color: blue;\n",
    "      font-size: 24px;\n",
    "    }\n",
    "\n",
    "    .info {\n",
    "      font-size: 18px;\n",
    "    }\n",
    "\n",
    "    .contact {\n",
    "      font-weight: bold;\n",
    "    }\n",
    "  </style>\n",
    "</head>\n",
    "\n",
    "<body>\n",
    "  <h1>한현비의 자기소개</h1>\n",
    "\n",
    "  <img src=\"profile.jpg\" alt=\"프로필 사진\">\n",
    "\n",
    "  <h2 id=\"name\">한현비</h2>\n",
    "\n",
    "  <p class=\"info\">경희대학교 컴퓨터공학과 학부생입니다. </p>\n",
    "\n",
    "  <h3>연락처</h3>\n",
    "  <ul class=\"contact\">\n",
    "    <li>Email: hyunbi@example.com</li>\n",
    "    <li>Phone: 010-1234-5678</li>\n",
    "  </ul>\n",
    "\n",
    "  <h3>자기소개</h3>\n",
    "  <p>\n",
    "    저는 경희대학교 컴퓨터공학과에 재학 중인 한현비입니다. 컴퓨터과학에 대한 열정과 관심을 가지고 있으며, 프로그래밍과 웹 개발에 특히 관심이 있습니다. 현재는 HTML, CSS, JavaScript 등의 웹 기술을 공부하고 있습니다. 또한 데이터 구조와 알고리즘에 대한 지식을 갖추고 싶어 노력하고 있습니다.\n",
    "  </p>\n",
    "\n",
    "  <a href=\"contact.html\">더 많은 정보를 얻으려면 여기를 클릭하세요.</a>\n",
    "  <br>\n",
    "  <a href=\"https://www.khu.ac.kr\">경희대학교 공식 홈페이지</a>\n",
    "</body>\n",
    "\n",
    "</html>\n"
   ]
  }
 ],
 "metadata": {
  "kernelspec": {
   "display_name": "Python 3 (ipykernel)",
   "language": "python",
   "name": "python3"
  },
  "language_info": {
   "codemirror_mode": {
    "name": "ipython",
    "version": 3
   },
   "file_extension": ".py",
   "mimetype": "text/x-python",
   "name": "python",
   "nbconvert_exporter": "python",
   "pygments_lexer": "ipython3",
   "version": "3.9.13"
  }
 },
 "nbformat": 4,
 "nbformat_minor": 5
}
